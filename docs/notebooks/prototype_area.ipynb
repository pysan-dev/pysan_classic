{
 "cells": [
  {
   "cell_type": "markdown",
   "metadata": {},
   "source": [
    "# PySAN Test Area"
   ]
  },
  {
   "cell_type": "code",
   "execution_count": 1,
   "metadata": {},
   "outputs": [
    {
     "name": "stdout",
     "output_type": "stream",
     "text": [
      "length: 20\n",
      "alphabet: {1, 2, 3, 4}\n",
      "sequence universe: 1,099,511,627,776\n",
      "bigrams: [[1, 4], [3, 2], [1, 2], [3, 4], [2, 1], [2, 3], [4, 2], [4, 1], [2, 2], [1, 1]]\n",
      "bigram universe: 16\n"
     ]
    },
    {
     "data": {
      "text/plain": [
       "<module 'matplotlib.pyplot' from '/home/ojs/.local/lib/python3.8/site-packages/matplotlib/pyplot.py'>"
      ]
     },
     "execution_count": 1,
     "metadata": {},
     "output_type": "execute_result"
    },
    {
     "data": {
      "image/png": "[encoded data removed]",
      "text/plain": [
       "<Figure size 288x216 with 1 Axes>"
      ]
     },
     "metadata": {
      "needs_background": "light"
     },
     "output_type": "display_data"
    }
   ],
   "source": [
    "import numpy as np\n",
    "import matplotlib.pyplot as plt\n",
    "\n",
    "import sys\n",
    "sys.path.append('../../')\n",
    "\n",
    "import pysan as ps\n",
    "\n",
    "sequence = [1,1,2,1,2,2,3,4,2,2,1,4,1,2,3,2,2,2,2,2]\n",
    "\n",
    "details = ps.describe(sequence)\n",
    "ps.plot_sequence(sequence)"
   ]
  },
  {
   "cell_type": "code",
   "execution_count": 2,
   "metadata": {},
   "outputs": [],
   "source": [
    "def longest_spell(sequence):\n",
    "    # longest subset of contiguous identical elements (aka run or episode)\n",
    "    pass\n"
   ]
  },
  {
   "cell_type": "code",
   "execution_count": 11,
   "metadata": {},
   "outputs": [
    {
     "data": {
      "text/plain": [
       "{1: 0.25, 2: 0.55, 3: 0.1, 4: 0.1}"
      ]
     },
     "execution_count": 11,
     "metadata": {},
     "output_type": "execute_result"
    }
   ],
   "source": [
    "def get_element_prevalence(sequence):\n",
    "    \n",
    "    elements = ps.get_alphabet(sequence)\n",
    "    \n",
    "    prevalences = {}\n",
    "    for element in elements:\n",
    "        prevalences[element] = sequence.count(element)\n",
    "        \n",
    "    return prevalences\n",
    "\n",
    "def get_element_frequency(sequence):\n",
    "    \"\"\"\n",
    "    Computes the relative frequency of each element in a sequence, returning a dictionary where each key is an element and each value is that elements relative frequency.\n",
    "    \"\"\"\n",
    "    \n",
    "    elements = ps.get_alphabet(sequence)\n",
    "    \n",
    "    prevalences = {}\n",
    "    for element in elements:\n",
    "        prevalences[element] = sequence.count(element) / len(sequence)\n",
    "        \n",
    "    return prevalences\n",
    "\n",
    "get_element_prevalence(sequence)\n",
    "get_element_frequency(sequence)"
   ]
  },
  {
   "cell_type": "code",
   "execution_count": 39,
   "metadata": {},
   "outputs": [
    {
     "name": "stdout",
     "output_type": "stream",
     "text": [
      "[[1, 1], [1, 2], [2, 1], [1, 2], [2, 2], [2, 3], [3, 4], [4, 2], [2, 2], [2, 1], [1, 4], [4, 1], [1, 2], [2, 3], [3, 2], [2, 2], [2, 2], [2, 2], [2, 2]]\n",
      "from 1 to 1 : 1\n",
      "from 1 to 2 : 3\n",
      "from 1 to 3 : 0\n",
      "from 1 to 4 : 1\n",
      "from 2 to 1 : 2\n",
      "from 2 to 2 : 6\n",
      "from 2 to 3 : 2\n",
      "from 2 to 4 : 0\n",
      "from 3 to 1 : 0\n",
      "from 3 to 2 : 1\n",
      "from 3 to 3 : 0\n",
      "from 3 to 4 : 1\n",
      "from 4 to 1 : 1\n",
      "from 4 to 2 : 1\n",
      "from 4 to 3 : 0\n",
      "from 4 to 4 : 0\n"
     ]
    },
    {
     "data": {
      "text/html": [
       "<div>\n",
       "<style scoped>\n",
       "    .dataframe tbody tr th:only-of-type {\n",
       "        vertical-align: middle;\n",
       "    }\n",
       "\n",
       "    .dataframe tbody tr th {\n",
       "        vertical-align: top;\n",
       "    }\n",
       "\n",
       "    .dataframe thead th {\n",
       "        text-align: right;\n",
       "    }\n",
       "</style>\n",
       "<table border=\"1\" class=\"dataframe\">\n",
       "  <thead>\n",
       "    <tr style=\"text-align: right;\">\n",
       "      <th></th>\n",
       "      <th>1</th>\n",
       "      <th>2</th>\n",
       "      <th>3</th>\n",
       "      <th>4</th>\n",
       "    </tr>\n",
       "  </thead>\n",
       "  <tbody>\n",
       "    <tr>\n",
       "      <th>1</th>\n",
       "      <td>1.0</td>\n",
       "      <td>2.0</td>\n",
       "      <td>0.0</td>\n",
       "      <td>1.0</td>\n",
       "    </tr>\n",
       "    <tr>\n",
       "      <th>2</th>\n",
       "      <td>3.0</td>\n",
       "      <td>6.0</td>\n",
       "      <td>1.0</td>\n",
       "      <td>1.0</td>\n",
       "    </tr>\n",
       "    <tr>\n",
       "      <th>3</th>\n",
       "      <td>0.0</td>\n",
       "      <td>2.0</td>\n",
       "      <td>0.0</td>\n",
       "      <td>0.0</td>\n",
       "    </tr>\n",
       "    <tr>\n",
       "      <th>4</th>\n",
       "      <td>1.0</td>\n",
       "      <td>0.0</td>\n",
       "      <td>1.0</td>\n",
       "      <td>0.0</td>\n",
       "    </tr>\n",
       "  </tbody>\n",
       "</table>\n",
       "</div>"
      ],
      "text/plain": [
       "     1    2    3    4\n",
       "1  1.0  2.0  0.0  1.0\n",
       "2  3.0  6.0  1.0  1.0\n",
       "3  0.0  2.0  0.0  0.0\n",
       "4  1.0  0.0  1.0  0.0"
      ]
     },
     "metadata": {},
     "output_type": "display_data"
    }
   ],
   "source": [
    "def get_all_ngrams(sequence, n=2):\n",
    "    all_ngram_indexes = [[x, x + 1] for x in range(len(sequence) - 1)]\n",
    "    \n",
    "    all_ngrams = []\n",
    "    for ngram_indexes in all_ngram_indexes:\n",
    "        this_ngram = str([sequence[x] for x in ngram_indexes])\n",
    "        all_ngrams.append(eval(this_ngram))\n",
    "    print(all_ngrams)\n",
    "    return all_ngrams\n",
    "\n",
    "import pandas as pd\n",
    "def get_transition_matrix(sequence):\n",
    "    \"\"\"\n",
    "    Computes a transition matrix for each bigram in a sequence.\n",
    "    The resulting matrix can be interpreted by reading along the top row first, then down the side, indicating from the element in the top row to the element along the side.\n",
    "    For example, to find the number of transitions from element 2 to element 3, find element 2 across the top, then follow that column down until it reaches element 3 on the side.\n",
    "    \"\"\"\n",
    "    alphabet = ps.get_alphabet(sequence)\n",
    "    all_ngrams = get_all_ngrams(sequence)\n",
    "    \n",
    "    transition_matrix = np.zeros((len(alphabet), len(alphabet)))\n",
    "    \n",
    "    for x, element_row in enumerate(alphabet):\n",
    "        for y, element_column in enumerate(alphabet):\n",
    "            current_ngram = [element_row, element_column]\n",
    "            #print('from', current_ngram[0], 'to', current_ngram[1], ':', all_ngrams.count(current_ngram))\n",
    "            transition_matrix[y, x] = all_ngrams.count(current_ngram)\n",
    "            \n",
    "    tm_df = pd.DataFrame(transition_matrix, columns=alphabet, index=alphabet)\n",
    "    return tm_df\n",
    "    \n",
    "get_transition_matrix(sequence)"
   ]
  }
 ],
 "metadata": {
  "kernelspec": {
   "display_name": "Python 3",
   "language": "python",
   "name": "python3"
  },
  "language_info": {
   "codemirror_mode": {
    "name": "ipython",
    "version": 3
   },
   "file_extension": ".py",
   "mimetype": "text/x-python",
   "name": "python",
   "nbconvert_exporter": "python",
   "pygments_lexer": "ipython3",
   "version": "3.8.2"
  }
 },
 "nbformat": 4,
 "nbformat_minor": 4
}
