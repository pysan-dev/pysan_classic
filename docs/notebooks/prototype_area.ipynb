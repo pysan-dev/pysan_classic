{
 "cells": [
  {
   "cell_type": "markdown",
   "metadata": {},
   "source": [
    "# PySAN Test Area"
   ]
  },
  {
   "cell_type": "code",
   "execution_count": 1,
   "metadata": {},
   "outputs": [
    {
     "name": "stdout",
     "output_type": "stream",
     "text": [
      "length: 20\n",
      "alphabet: {1, 2, 3, 4}\n",
      "sequence universe: 1,099,511,627,776\n",
      "unique bigrams: [[1, 1], [1, 2], [2, 1], [2, 2], [2, 3], [3, 4], [4, 2], [1, 4], [4, 1], [3, 2]]\n",
      "bigram universe: 16\n"
     ]
    },
    {
     "data": {
      "text/plain": [
       "<module 'matplotlib.pyplot' from '/home/ojs/.local/lib/python3.8/site-packages/matplotlib/pyplot.py'>"
      ]
     },
     "execution_count": 1,
     "metadata": {},
     "output_type": "execute_result"
    },
    {
     "data": {
      "image/png": "[encoded data removed]",
      "text/plain": [
       "<Figure size 288x72 with 1 Axes>"
      ]
     },
     "metadata": {
      "needs_background": "light"
     },
     "output_type": "display_data"
    }
   ],
   "source": [
    "import numpy as np\n",
    "import matplotlib.pyplot as plt\n",
    "\n",
    "import sys\n",
    "sys.path.append('../../')\n",
    "\n",
    "import pysan as ps\n",
    "\n",
    "sequence = [1,1,2,1,2,2,3,4,2,2,1,4,1,2,3,2,2,2,2,2]\n",
    "\n",
    "details = ps.describe(sequence)\n",
    "ps.plot_sequence(sequence)"
   ]
  },
  {
   "cell_type": "code",
   "execution_count": 22,
   "metadata": {},
   "outputs": [
    {
     "data": {
      "text/html": [
       "<div>\n",
       "<style scoped>\n",
       "    .dataframe tbody tr th:only-of-type {\n",
       "        vertical-align: middle;\n",
       "    }\n",
       "\n",
       "    .dataframe tbody tr th {\n",
       "        vertical-align: top;\n",
       "    }\n",
       "\n",
       "    .dataframe thead th {\n",
       "        text-align: right;\n",
       "    }\n",
       "</style>\n",
       "<table border=\"1\" class=\"dataframe\">\n",
       "  <thead>\n",
       "    <tr style=\"text-align: right;\">\n",
       "      <th></th>\n",
       "      <th>A</th>\n",
       "      <th>B</th>\n",
       "      <th>C</th>\n",
       "    </tr>\n",
       "  </thead>\n",
       "  <tbody>\n",
       "    <tr>\n",
       "      <th>A</th>\n",
       "      <td>2.0</td>\n",
       "      <td>2.0</td>\n",
       "      <td>1.0</td>\n",
       "    </tr>\n",
       "    <tr>\n",
       "      <th>B</th>\n",
       "      <td>2.0</td>\n",
       "      <td>0.0</td>\n",
       "      <td>0.0</td>\n",
       "    </tr>\n",
       "    <tr>\n",
       "      <th>C</th>\n",
       "      <td>1.0</td>\n",
       "      <td>0.0</td>\n",
       "      <td>2.0</td>\n",
       "    </tr>\n",
       "  </tbody>\n",
       "</table>\n",
       "</div>"
      ],
      "text/plain": [
       "     A    B    C\n",
       "A  2.0  2.0  1.0\n",
       "B  2.0  0.0  0.0\n",
       "C  1.0  0.0  2.0"
      ]
     },
     "execution_count": 22,
     "metadata": {},
     "output_type": "execute_result"
    }
   ],
   "source": [
    "import pandas as pd\n",
    "def get_transition_matrix(sequence, alphabet=None, verbose=False):\n",
    "    \"\"\"\n",
    "    Computes a transition matrix for each bigram in a sequence.\n",
    "    The resulting matrix can be interpreted by reading along the side first, then across the top, indicating from the element in down the side to the element along the top.\n",
    "    For example, to find the number of transitions from element 2 to element 3, find element 2 down the side, then follow that row across until it reaches element 3 across the top.\n",
    "\n",
    "    Examples\n",
    "    ----------\n",
    "    >>> sequence = ['cook','exercise','sleep','sleep','cook','exercise','sleep']\n",
    "    >>> ps.get_transition_matrix(sequence)\n",
    "        cook  exercise  sleep\n",
    "    cook       0.0       0.0    1.0\n",
    "    exercise   2.0       0.0    0.0\n",
    "    sleep      0.0       1.0    1.0\n",
    "\n",
    "    \"\"\"\n",
    "    if alphabet == None:\n",
    "        alphabet = ps.get_alphabet(sequence)\n",
    "    all_ngrams = ps.get_all_ngrams(sequence, 2)\n",
    "\n",
    "    transition_matrix = np.zeros((len(alphabet), len(alphabet)))\n",
    "    descriptive_matrix = [['-' for x in range(len(alphabet))] for y in range(len(alphabet))]\n",
    "\n",
    "    for x, element_row in enumerate(alphabet):\n",
    "        for y, element_column in enumerate(alphabet):\n",
    "            current_ngram = [element_row, element_column]\n",
    "            descriptive_matrix[x][y] = 'n' + str(current_ngram)\n",
    "            #print('from', current_ngram[0], 'to', current_ngram[1], ':', all_ngrams.count(current_ngram))\n",
    "            transition_matrix[x, y] = all_ngrams.count(current_ngram)\n",
    "\n",
    "    if verbose:\n",
    "        de_df = pd.DataFrame(descriptive_matrix, columns=alphabet, index=alphabet)\n",
    "        print(de_df)\n",
    "    tm_df = pd.DataFrame(transition_matrix, columns=alphabet, index=alphabet)\n",
    "    return tm_df\n",
    "\n",
    "sequence = ['A','A','B','A','A','C','C','C','A','B','A','A']\n",
    "get_transition_matrix(sequence, alphabet=['A','B','C'])"
   ]
  }
 ],
 "metadata": {
  "kernelspec": {
   "display_name": "Python 3",
   "language": "python",
   "name": "python3"
  },
  "language_info": {
   "codemirror_mode": {
    "name": "ipython",
    "version": 3
   },
   "file_extension": ".py",
   "mimetype": "text/x-python",
   "name": "python",
   "nbconvert_exporter": "python",
   "pygments_lexer": "ipython3",
   "version": "3.8.2"
  }
 },
 "nbformat": 4,
 "nbformat_minor": 4
}
