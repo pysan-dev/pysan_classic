{
 "cells": [
  {
   "cell_type": "markdown",
   "metadata": {
    "colab_type": "text",
    "id": "WmSvqhemnFew"
   },
   "source": [
    "# Welcome to the `pysan` development notebook\n",
    "This colab notebook is currently being tested as a workspace to develop new features. Code below is not deployment-ready, and is meant purely as a transparent way to see what kinds of features are in the works.\n",
    "\n",
    "Note: this notebook is meant to be run on your local system after cloning the repository."
   ]
  },
  {
   "cell_type": "code",
   "execution_count": 1,
   "metadata": {},
   "outputs": [
    {
     "name": "stdout",
     "output_type": "stream",
     "text": [
      "pysan ready\n"
     ]
    }
   ],
   "source": [
    "import sys\n",
    "sys.path.insert(1,'../../')\n",
    "import pysan as ps\n",
    "import matplotlib.pyplot as plt\n",
    "plt.style.use('pysan.mplstyle')"
   ]
  },
  {
   "cell_type": "markdown",
   "metadata": {
    "colab_type": "text",
    "id": "DoU66MBAuis3"
   },
   "source": [
    "## Development Area\n",
    "If the output of the previous cell reads `pysan ready.`, then everything is working and you're ready to go. Remember to leave lots of comments (and docstrings) so that anyone reading this page can understand what's going on!"
   ]
  },
  {
   "cell_type": "code",
   "execution_count": 2,
   "metadata": {},
   "outputs": [
    {
     "name": "stdout",
     "output_type": "stream",
     "text": [
      "0.8763576394898526\n",
      "16\n",
      "14\n",
      "15\n",
      "0.0\n"
     ]
    }
   ],
   "source": [
    "s1 = [1,2,3,4]\n",
    "s2 = [1,2,1,3]\n",
    "s3 = [1,2,3,1]\n",
    "\n",
    "sequences = [s1,s2,s3]\n",
    "\n",
    "s = [1,1,2,1,2,2,3,4,2]\n",
    "\n",
    "import math\n",
    "print(ps.get_entropy(s))\n",
    "\n",
    "[print(ps.get_distinct_subsequence_count(s)) for s in sequences]\n",
    "\n",
    "sequence = s\n",
    "alphabet = ps.get_alphabet(sequence)\n",
    "ntransitions = ps.get_ntransitions(sequence)\n",
    "max_transitions = len(sequence) - 1\n",
    "\n",
    "# Elzinga's turbulence\n",
    "\n",
    "\n",
    "complexity = math.log(1)\n",
    "\n",
    "print(complexity)"
   ]
  },
  {
   "cell_type": "code",
   "execution_count": 3,
   "metadata": {},
   "outputs": [
    {
     "data": {
      "text/plain": [
       "<module 'matplotlib.pyplot' from '/home/ojs/.local/lib/python3.8/site-packages/matplotlib/pyplot.py'>"
      ]
     },
     "execution_count": 3,
     "metadata": {},
     "output_type": "execute_result"
    },
    {
     "data": {
      "image/png": "[encoded data removed]",
      "text/plain": [
       "<Figure size 432x288 with 2 Axes>"
      ]
     },
     "metadata": {
      "needs_background": "light"
     },
     "output_type": "display_data"
    }
   ],
   "source": [
    "\n",
    "def get_turbulence(sequence):\n",
    "    \"\"\"\n",
    "    .. raw:: html\n",
    "    \n",
    "        <p><a>Under Construction</a></p>\n",
    "    \n",
    "    Computes turbulence for a given sequence, based on 'Elzinga & Liefbroer's 2007 definition <https://www.researchgate.net/publication/225402919_De-standardization_of_Family-Life_Trajectories_of_Young_Adults_A_Cross-National_Comparison_Using_Sequence_Analysis>`_ which is also implemented in the `TraMineR <http://traminer.unige.ch/doc/seqST.html>`_ sequence analysis library.\n",
    "    \n",
    "    \"\"\"\n",
    "    \n",
    "    pass\n",
    "    \n",
    "    \n",
    "sequence = [1,1,1,2,1,2,3,2,3,1]\n",
    "ps.get_transition_matrix(sequence)\n",
    "ps.plot_transition_matrix(sequence)\n",
    "    "
   ]
  }
 ],
 "metadata": {
  "colab": {
   "include_colab_link": true,
   "name": "prototype_area.ipynb",
   "provenance": [],
   "toc_visible": true
  },
  "kernelspec": {
   "display_name": "Python 3",
   "language": "python",
   "name": "python3"
  },
  "language_info": {
   "codemirror_mode": {
    "name": "ipython",
    "version": 3
   },
   "file_extension": ".py",
   "mimetype": "text/x-python",
   "name": "python",
   "nbconvert_exporter": "python",
   "pygments_lexer": "ipython3",
   "version": "3.8.5"
  }
 },
 "nbformat": 4,
 "nbformat_minor": 4
}
