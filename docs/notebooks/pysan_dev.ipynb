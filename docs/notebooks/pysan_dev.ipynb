{
 "cells": [
  {
   "cell_type": "markdown",
   "metadata": {
    "colab_type": "text",
    "id": "WmSvqhemnFew"
   },
   "source": [
    "# Welcome to the `pysan` development notebook\n",
    "This colab notebook is currently being tested as a workspace to develop new features. Code below is not deployment-ready, and is meant purely as a transparent way to see what kinds of features are in the works.\n",
    "\n",
    "Note: this notebook is meant to be run on your local system after cloning the repository."
   ]
  },
  {
   "cell_type": "code",
   "execution_count": 1,
   "metadata": {},
   "outputs": [
    {
     "name": "stdout",
     "output_type": "stream",
     "text": [
      "pysan ready\n"
     ]
    }
   ],
   "source": [
    "import sys\n",
    "sys.path.insert(1,'../../')\n",
    "import pysan as ps\n",
    "import matplotlib.pyplot as plt"
   ]
  },
  {
   "cell_type": "markdown",
   "metadata": {
    "colab_type": "text",
    "id": "DoU66MBAuis3"
   },
   "source": [
    "## Development Area\n",
    "If the output of the previous cell reads `pysan ready.`, then everything is working and you're ready to go. Remember to leave lots of comments (and docstrings) so that anyone reading this page can understand what's going on!"
   ]
  },
  {
   "cell_type": "code",
   "execution_count": 5,
   "metadata": {},
   "outputs": [
    {
     "data": {
      "text/plain": [
       "[[2, 3, 2, 2, 3, 1, 2, 2, 1, 2],\n",
       " [3, 1, 3, 3, 1, 3, 1, 3, 3, 1],\n",
       " [1, 1, 2, 3, 3, 1, 3, 1, 3, 3],\n",
       " [1, 3, 1, 2, 3, 2, 3, 1, 3, 2],\n",
       " [1, 3, 2, 2, 2, 2, 3, 3, 1, 3]]"
      ]
     },
     "execution_count": 5,
     "metadata": {},
     "output_type": "execute_result"
    }
   ],
   "source": [
    "import pysan.core as pysan_core\n",
    "\n",
    "sequences = ps.generate_sequences(5, 10, [1,2,3])\n",
    "\n"
   ]
  },
  {
   "cell_type": "code",
   "execution_count": 3,
   "metadata": {},
   "outputs": [
    {
     "data": {
      "text/plain": [
       "-2.0"
      ]
     },
     "execution_count": 3,
     "metadata": {},
     "output_type": "execute_result"
    }
   ],
   "source": [
    "import numpy as np\n",
    "from string import *\n",
    "\n",
    "\n",
    "\n",
    "def get_distance(s1,s2,match = 0,mismatch = -1, gap = -1):\n",
    "\t\"\"\"\n",
    "\tComputes the optimal matching distance between two sequences using the 'Needleman-Wunsch algorithm <https://www.sciencedirect.com/science/article/abs/pii/0022283670900574?via%3Dihub>`_ based on Devon Ryan's implementation found `here <https://www.biostars.org/p/231391/>`_.\n",
    "\t\n",
    "\t\"\"\"\n",
    "\t\n",
    "\tpenalty = {'MATCH': match, 'MISMATCH': mismatch, 'GAP': gap} #A dictionary for all the penalty valuse.\n",
    "\tn = len(s1) + 1 #The dimension of the matrix columns.\n",
    "\tm = len(s2) + 1 #The dimension of the matrix rows.\n",
    "\tal_mat = np.zeros((m,n),dtype = float) #Initializes the alighment matrix with zeros.\n",
    "\tp_mat = np.zeros((m,n),dtype = str) #Initializes the pointer matrix with zeros.\n",
    "\t#Scans all the first rows element in the matrix and fill it with \"gap penalty\"\n",
    "\tfor i in range(m):\n",
    "\t\tal_mat[i][0] = penalty['GAP'] * i\n",
    "\t\tp_mat[i][0] = 'V'\n",
    "\t#Scans all the first columns element in the matrix and fill it with \"gap penalty\"\n",
    "\tfor j in range (n):\n",
    "\t\tal_mat[0][j] = penalty['GAP'] * j\n",
    "\t\tp_mat [0][j] = 'H'\n",
    "\t\n",
    "\t\n",
    "\t#-------------------------------------------------------\n",
    "\t#This function returns to values for cae of match or mismatch\n",
    "\tdef Diagonal(n1,n2,pt):\n",
    "\t\tif(n1 == n2):\n",
    "\t\t\treturn pt['MATCH']\n",
    "\t\telse:\n",
    "\t\t\treturn pt['MISMATCH']\n",
    "\t\n",
    "\t#------------------------------------------------------------   \n",
    "\t#This function gets the optional elements of the aligment matrix and returns the elements for the pointers matrix.\n",
    "\tdef Pointers(di,ho,ve):\n",
    "\t\tpointer = max(di,ho,ve) #based on python default maximum(return the first element).\n",
    "\n",
    "\t\tif(di == pointer):\n",
    "\t\t\treturn 'D'\n",
    "\t\telif(ho == pointer):\n",
    "\t\t\treturn 'H'\n",
    "\t\telse:\n",
    "\t\t\t return 'V'\n",
    "\t\n",
    "\t#Fill the matrix with the correct values.\n",
    "\tp_mat [0][0] = 0 #Return the first element of the pointer matrix back to 0.\n",
    "\tfor i in range(1,m):\n",
    "\t\tfor j in range(1,n):\n",
    "\t\t\tdi = al_mat[i-1][j-1] + Diagonal(s1[j-1],s2[i-1],penalty) #The value for match/mismatch -  diagonal.\n",
    "\t\t\tho = al_mat[i][j-1] + penalty['GAP'] #The value for gap - horizontal.(from the left cell)\n",
    "\t\t\tve = al_mat[i-1][j] + penalty['GAP'] #The value for gap - vertical.(from the upper cell)\n",
    "\t\t\tal_mat[i][j] = max(di,ho,ve) #Fill the matrix with the maximal value.(based on the python default maximum)\n",
    "\t\t\tp_mat[i][j] = Pointers(di,ho,ve)\n",
    "\t\n",
    "\t#print(np.matrix(al_mat))\n",
    "\t#print(np.matrix(p_mat))\n",
    "\t\n",
    "\t# optimal alignment score = bottom right value in al_mat\n",
    "\tscore = al_mat[m-1][n-1]\n",
    "\t#print(score)\n",
    "\treturn score\n",
    "\n",
    "s1 = 'aaaabbbb'\n",
    "s2 = 'abbccdee'\n",
    "\n",
    "s1 = [1,1,2,2,3]\n",
    "s2 = [1,2,2,3,3]\n",
    "\n",
    "get_distance(s1,s2)"
   ]
  }
 ],
 "metadata": {
  "colab": {
   "include_colab_link": true,
   "name": "prototype_area.ipynb",
   "provenance": [],
   "toc_visible": true
  },
  "kernelspec": {
   "display_name": "Python 3",
   "language": "python",
   "name": "python3"
  },
  "language_info": {
   "codemirror_mode": {
    "name": "ipython",
    "version": 3
   },
   "file_extension": ".py",
   "mimetype": "text/x-python",
   "name": "python",
   "nbconvert_exporter": "python",
   "pygments_lexer": "ipython3",
   "version": "3.8.5"
  }
 },
 "nbformat": 4,
 "nbformat_minor": 4
}
