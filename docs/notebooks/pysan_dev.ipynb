{
 "cells": [
  {
   "cell_type": "markdown",
   "metadata": {
    "colab_type": "text",
    "id": "WmSvqhemnFew"
   },
   "source": [
    "# Welcome to the `pysan` development notebook\n",
    "This colab notebook is currently being tested as a workspace to develop new features. Code below is not deployment-ready, and is meant purely as a transparent way to see what kinds of features are in the works.\n",
    "\n",
    "Note: this notebook is meant to be run on your local system after cloning the repository."
   ]
  },
  {
   "cell_type": "code",
   "execution_count": 1,
   "metadata": {},
   "outputs": [
    {
     "name": "stdout",
     "output_type": "stream",
     "text": [
      "pysan ready\n"
     ]
    }
   ],
   "source": [
    "import sys\n",
    "sys.path.insert(1,'../../')\n",
    "import pysan as ps\n",
    "import matplotlib.pyplot as plt"
   ]
  },
  {
   "cell_type": "markdown",
   "metadata": {
    "colab_type": "text",
    "id": "DoU66MBAuis3"
   },
   "source": [
    "## Development Area\n",
    "If the output of the previous cell reads `pysan ready.`, then everything is working and you're ready to go. Remember to leave lots of comments (and docstrings) so that anyone reading this page can understand what's going on!"
   ]
  },
  {
   "cell_type": "code",
   "execution_count": 41,
   "metadata": {},
   "outputs": [
    {
     "name": "stdout",
     "output_type": "stream",
     "text": [
      "hmax 1.3862943611198906\n",
      "hs 1.0\n",
      "qs 3\n",
      "qmax 11\n",
      "nt 0.2727272727272727\n",
      "ne 0.7213475204444817\n",
      "complexity 0.44354384443863504\n"
     ]
    }
   ],
   "source": [
    "sequence = [1,1,1,2,2,2,3,3,3,4,4,4]\n",
    "\n",
    "ps.get_turbulence(s)\n",
    "\n",
    "import math, scipy\n",
    "\n",
    "alphabet = ps.get_alphabet(sequence)\n",
    "\n",
    "pre_log = 1 / len(alphabet)\n",
    "hmax = -math.log(pre_log)\n",
    "print('hmax', hmax)\n",
    "\n",
    "hs = ps.get_entropy(sequence)\n",
    "print('hs', hs)\n",
    "\n",
    "qs = ps.get_ntransitions(sequence)\n",
    "print('qs', qs)\n",
    "\n",
    "qmax = len(sequence) - 1\n",
    "print('qmax', qmax)\n",
    "\n",
    "top_line = qs * hs\n",
    "bot_line = qmax * hmax\n",
    "\n",
    "norm_transitions = qs / qmax\n",
    "norm_entropy = hs / hmax\n",
    "\n",
    "print('nt', norm_transitions)\n",
    "print('ne', norm_entropy)\n",
    "\n",
    "complexity = math.sqrt(norm_transitions * norm_entropy)\n",
    "\n",
    "print('complexity', complexity)"
   ]
  },
  {
   "cell_type": "code",
   "execution_count": 43,
   "metadata": {},
   "outputs": [
    {
     "name": "stdout",
     "output_type": "stream",
     "text": [
      "30.68192601481135\n",
      "1.0\n"
     ]
    }
   ],
   "source": [
    "def new_entropy(sequence):\n",
    "    \n",
    "    alphabet = ps.get_alphabet(sequence)\n",
    "    \n",
    "    entropy = 0\n",
    "    for state in alphabet:\n",
    "        entropy += element * math.log(element)\n",
    "        \n",
    "    return entropy\n",
    "\n",
    "sequence = [1,1,1,2,2,2,3,3,3,4,4,4]\n",
    "print(new_entropy(sequence))\n",
    "print(ps.get_entropy(sequence))"
   ]
  }
 ],
 "metadata": {
  "colab": {
   "include_colab_link": true,
   "name": "prototype_area.ipynb",
   "provenance": [],
   "toc_visible": true
  },
  "kernelspec": {
   "display_name": "Python 3",
   "language": "python",
   "name": "python3"
  },
  "language_info": {
   "codemirror_mode": {
    "name": "ipython",
    "version": 3
   },
   "file_extension": ".py",
   "mimetype": "text/x-python",
   "name": "python",
   "nbconvert_exporter": "python",
   "pygments_lexer": "ipython3",
   "version": "3.8.5"
  }
 },
 "nbformat": 4,
 "nbformat_minor": 4
}
