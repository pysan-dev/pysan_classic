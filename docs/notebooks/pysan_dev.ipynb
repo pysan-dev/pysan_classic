{
 "cells": [
  {
   "cell_type": "markdown",
   "metadata": {
    "colab_type": "text",
    "id": "WmSvqhemnFew"
   },
   "source": [
    "# Welcome to the `pysan` development notebook\n",
    "This colab notebook is currently being tested as a workspace to develop new features. Code below is not deployment-ready, and is meant purely as a transparent way to see what kinds of features are in the works.\n",
    "\n",
    "Note: this notebook is meant to be run on your local system after cloning the repository."
   ]
  },
  {
   "cell_type": "code",
   "execution_count": 1,
   "metadata": {},
   "outputs": [
    {
     "name": "stdout",
     "output_type": "stream",
     "text": [
      "pysan ready\n"
     ]
    }
   ],
   "source": [
    "import sys\n",
    "sys.path.insert(1,'../../')\n",
    "import pysan as ps\n",
    "import matplotlib.pyplot as plt"
   ]
  },
  {
   "cell_type": "markdown",
   "metadata": {
    "colab_type": "text",
    "id": "DoU66MBAuis3"
   },
   "source": [
    "## Development Area\n",
    "If the output of the previous cell reads `pysan ready.`, then everything is working and you're ready to go. Remember to leave lots of comments (and docstrings) so that anyone reading this page can understand what's going on!"
   ]
  },
  {
   "cell_type": "code",
   "execution_count": 2,
   "metadata": {},
   "outputs": [
    {
     "data": {
      "text/plain": [
       "0.0"
      ]
     },
     "execution_count": 2,
     "metadata": {},
     "output_type": "execute_result"
    }
   ],
   "source": [
    "import pysan.core as pysan_core\n",
    "\n",
    "sequences = ps.generate_sequences(5, 10, [1,2,3])\n",
    "\n",
    "def get_statistics(sequences, function):\n",
    "\t\n",
    "\t\n",
    "\tscores = []\n",
    "\tfor sequence in sequences:\n",
    "\t\tif function == 'entropy':\n",
    "\t\t\tscores.append(ps.get_entropy(sequence))\n",
    "\t\telif function == 'complexity':\n",
    "\t\t\tscores.append(ps.get_complexity(sequence))\n",
    "\t\telif function == 'turbulence':\n",
    "\t\t\tscores.append(ps.get_turbulence(sequence))\n",
    "\t\telse:\n",
    "\t\t\tscores.append(function(sequence))\n",
    "\t\n",
    "\treturn scores\n",
    "\n",
    "s1 = [1,1,1,2,2,3,3,3]\n",
    "s2 = [1,1,3,2,2,3,1,3]\n",
    "s3 = [1,1,2,2,3,2,3,2]\n",
    "\n",
    "sequences = [s1,s2,s3]\n",
    "\n",
    "get_statistics(sequences, ps.get_turbulence)\n",
    "\n",
    "\n",
    "df = ps.get_transition_matrix(s1)\n",
    "\n",
    "df = df.div(df.sum(axis=1), axis=0)\n",
    "\n",
    "s1 = [1,2,3]\n",
    "\n",
    "ps.get_subsequences(s1)\n",
    "\n",
    "ps.get_combinatorial_distance(s1,s1)\n",
    "\n",
    "# a first order markov model is where some p+1 is dependent on p\n",
    "# because it only uses p, it is said to be 'memoryless'"
   ]
  },
  {
   "cell_type": "code",
   "execution_count": 3,
   "metadata": {},
   "outputs": [
    {
     "data": {
      "text/plain": [
       "7.0"
      ]
     },
     "execution_count": 3,
     "metadata": {},
     "output_type": "execute_result"
    }
   ],
   "source": [
    "s1 = [1,1,1,1,2,2,2,2]\n",
    "s2 = [1,2,2,3,3,4,5,5]\n",
    "ps.get_hamming_distance(s1,s2)"
   ]
  }
 ],
 "metadata": {
  "colab": {
   "include_colab_link": true,
   "name": "prototype_area.ipynb",
   "provenance": [],
   "toc_visible": true
  },
  "kernelspec": {
   "display_name": "Python 3",
   "language": "python",
   "name": "python3"
  },
  "language_info": {
   "codemirror_mode": {
    "name": "ipython",
    "version": 3
   },
   "file_extension": ".py",
   "mimetype": "text/x-python",
   "name": "python",
   "nbconvert_exporter": "python",
   "pygments_lexer": "ipython3",
   "version": "3.8.5"
  }
 },
 "nbformat": 4,
 "nbformat_minor": 4
}
