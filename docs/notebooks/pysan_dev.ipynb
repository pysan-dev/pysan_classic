{
 "cells": [
  {
   "cell_type": "markdown",
   "metadata": {
    "colab_type": "text",
    "id": "WmSvqhemnFew"
   },
   "source": [
    "# Welcome to the `pysan` development notebook\n",
    "This colab notebook is currently being tested as a workspace to develop new features. Code below is not deployment-ready, and is meant purely as a transparent way to see what kinds of features are in the works.\n",
    "\n",
    "Note: this notebook is meant to be run on your local system after cloning the repository."
   ]
  },
  {
   "cell_type": "code",
   "execution_count": 1,
   "metadata": {},
   "outputs": [
    {
     "name": "stdout",
     "output_type": "stream",
     "text": [
      "pysan ready\n"
     ]
    }
   ],
   "source": [
    "import sys\n",
    "sys.path.insert(1,'../../')\n",
    "import pysan as ps\n",
    "import matplotlib.pyplot as plt"
   ]
  },
  {
   "cell_type": "markdown",
   "metadata": {
    "colab_type": "text",
    "id": "DoU66MBAuis3"
   },
   "source": [
    "## Development Area\n",
    "If the output of the previous cell reads `pysan ready.`, then everything is working and you're ready to go. Remember to leave lots of comments (and docstrings) so that anyone reading this page can understand what's going on!"
   ]
  },
  {
   "cell_type": "code",
   "execution_count": 10,
   "metadata": {},
   "outputs": [
    {
     "name": "stdout",
     "output_type": "stream",
     "text": [
      "0\n",
      "0.6192954507348547\n"
     ]
    }
   ],
   "source": [
    "sequence = [1,1,1,1,1,1,1,1,1,1,1]\n",
    "\n",
    "import math, scipy\n",
    "\n",
    "def get_complexity(sequence):\n",
    "\n",
    "    alphabet = get_alphabet(sequence)\n",
    "\n",
    "    pre_log = 1 / len(alphabet)\n",
    "    hmax = -math.log(pre_log)\n",
    "    #print('hmax', hmax)\n",
    "    if hmax == 0:\n",
    "        return 0 # all identical elements, no complexity\n",
    "\n",
    "    hs = get_entropy(sequence)\n",
    "    #print('hs', hs)\n",
    "\n",
    "    qs = get_ntransitions(sequence)\n",
    "    #print('qs', qs)\n",
    "\n",
    "    qmax = len(sequence) - 1\n",
    "    #print('qmax', qmax)\n",
    "\n",
    "    top_line = qs * hs\n",
    "    bot_line = qmax * hmax\n",
    "\n",
    "    norm_transitions = qs / qmax\n",
    "    norm_entropy = hs / hmax\n",
    "\n",
    "    #print('nt', norm_transitions)\n",
    "    #print('ne', norm_entropy)\n",
    "\n",
    "    complexity = math.sqrt(norm_transitions * norm_entropy)\n",
    "\n",
    "    #print('complexity', complexity)\n",
    "    return complexity\n",
    "    \n",
    "sequence = [1,1,1,1,1,1,1,1,1,1,1]\n",
    "print(get_complexity(sequence))\n",
    "sequence = [1,2,4,4,5,3,3,1,1,1,1,1]\n",
    "print(get_complexity(sequence))"
   ]
  }
 ],
 "metadata": {
  "colab": {
   "include_colab_link": true,
   "name": "prototype_area.ipynb",
   "provenance": [],
   "toc_visible": true
  },
  "kernelspec": {
   "display_name": "Python 3",
   "language": "python",
   "name": "python3"
  },
  "language_info": {
   "codemirror_mode": {
    "name": "ipython",
    "version": 3
   },
   "file_extension": ".py",
   "mimetype": "text/x-python",
   "name": "python",
   "nbconvert_exporter": "python",
   "pygments_lexer": "ipython3",
   "version": "3.8.5"
  }
 },
 "nbformat": 4,
 "nbformat_minor": 4
}
